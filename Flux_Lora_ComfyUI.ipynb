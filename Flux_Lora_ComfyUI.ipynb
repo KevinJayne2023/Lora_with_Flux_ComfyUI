{
  "cells": [
    {
      "cell_type": "markdown",
      "metadata": {
        "id": "view-in-github",
        "colab_type": "text"
      },
      "source": [
        "<a href=\"https://colab.research.google.com/github/KevinJayne2023/Lora_with_Flux_ComfyUI/blob/main/Flux_Lora_ComfyUI.ipynb\" target=\"_parent\"><img src=\"https://colab.research.google.com/assets/colab-badge.svg\" alt=\"Open In Colab\"/></a>"
      ]
    },
    {
      "cell_type": "markdown",
      "metadata": {
        "id": "xG0uz2-v0jRF"
      },
      "source": [
        "### Notes\n",
        "- Uncheck `UPDATE_COMFY_UI`, and `USE_COMFYUI_MANAGER` and `INSTALL_CUSTOM_NODES` after first run if `USE_GOOGLE_DRIVE` is checked.\n"
      ]
    },
    {
      "cell_type": "markdown",
      "metadata": {
        "id": "FU2-qvnvz59M"
      },
      "source": [
        "### Install Dependencies"
      ]
    },
    {
      "cell_type": "code",
      "execution_count": null,
      "metadata": {
        "id": "GRjDQcTUvI5w"
      },
      "outputs": [],
      "source": [
        "# #@title Environment Setup\n",
        "\n",
        "from pathlib import Path\n",
        "\n",
        "OPTIONS = {}\n",
        "\n",
        "USE_GOOGLE_DRIVE = False  #@param {type:\"boolean\"}\n",
        "UPDATE_COMFY_UI = True  #@param {type:\"boolean\"}\n",
        "USE_COMFYUI_MANAGER = True  #@param {type:\"boolean\"}\n",
        "INSTALL_CUSTOM_NODES = True  #@param {type:\"boolean\"}\n",
        "INSTALL_CUSTOM_NODES_DEPENDENCIES = True  #@param {type:\"boolean\"}\n",
        "OPTIONS['USE_GOOGLE_DRIVE'] = USE_GOOGLE_DRIVE\n",
        "OPTIONS['UPDATE_COMFY_UI'] = UPDATE_COMFY_UI\n",
        "OPTIONS['USE_COMFYUI_MANAGER'] = USE_COMFYUI_MANAGER\n",
        "OPTIONS['INSTALL_CUSTOM_NODES'] = INSTALL_CUSTOM_NODES\n",
        "OPTIONS['INSTALL_CUSTOM_NODES_DEPENDENCIES'] = INSTALL_CUSTOM_NODES_DEPENDENCIES\n",
        "\n",
        "current_dir = !pwd\n",
        "WORKSPACE = f\"{current_dir[0]}/ComfyUI\"\n",
        "\n",
        "if OPTIONS['USE_GOOGLE_DRIVE']:\n",
        "    !echo \"Mounting Google Drive...\"\n",
        "    %cd /\n",
        "\n",
        "    from google.colab import drive\n",
        "    drive.mount('/content/drive')\n",
        "\n",
        "    WORKSPACE = \"/content/drive/MyDrive/ComfyUI\"\n",
        "    %cd /content/drive/MyDrive\n",
        "\n",
        "![ ! -d $WORKSPACE ] && echo -= Initial setup ComfyUI =- && git clone https://github.com/comfyanonymous/ComfyUI\n",
        "%cd $WORKSPACE\n",
        "\n",
        "if OPTIONS['UPDATE_COMFY_UI']:\n",
        "  !echo -= Updating ComfyUI =-\n",
        "  !git pull\n",
        "\n",
        "!echo -= Install dependencies =-\n",
        "!pip install xformers!=0.0.18 -r requirements.txt --extra-index-url https://download.pytorch.org/whl/cu121 --extra-index-url https://download.pytorch.org/whl/cu118 --extra-index-url https://download.pytorch.org/whl/cu117\n",
        "\n",
        "if OPTIONS['USE_COMFYUI_MANAGER']:\n",
        "  %cd custom_nodes\n",
        "\n",
        "  # Correction of the issue of permissions being deleted on Google Drive.\n",
        "  ![ -f \"ComfyUI-Manager/check.sh\" ] && chmod 755 ComfyUI-Manager/check.sh\n",
        "  ![ -f \"ComfyUI-Manager/scan.sh\" ] && chmod 755 ComfyUI-Manager/scan.sh\n",
        "  ![ -f \"ComfyUI-Manager/node_db/dev/scan.sh\" ] && chmod 755 ComfyUI-Manager/node_db/dev/scan.sh\n",
        "  ![ -f \"ComfyUI-Manager/scripts/install-comfyui-venv-linux.sh\" ] && chmod 755 ComfyUI-Manager/scripts/install-comfyui-venv-linux.sh\n",
        "  ![ -f \"ComfyUI-Manager/scripts/install-comfyui-venv-win.bat\" ] && chmod 755 ComfyUI-Manager/scripts/install-comfyui-venv-win.bat\n",
        "\n",
        "  ![ ! -d ComfyUI-Manager ] && echo -= Initial setup ComfyUI-Manager =- && git clone https://github.com/ltdrdata/ComfyUI-Manager\n",
        "  %cd ComfyUI-Manager\n",
        "  !git pull\n",
        "\n",
        "\n",
        "if OPTIONS['INSTALL_CUSTOM_NODES']:\n",
        "  %cd $WORKSPACE\n",
        "  %cd custom_nodes\n",
        "  !git clone https://github.com/city96/ComfyUI-GGUF\n",
        "  !pip install -r ComfyUI-GGUF/requirements.txt\n",
        "  !git clone https://github.com/Fannovel16/comfyui_controlnet_aux\n",
        "  !pip install -r comfyui_controlnet_aux/requirements.txt\n",
        "\n",
        "%cd $WORKSPACE\n",
        "\n",
        "if OPTIONS['INSTALL_CUSTOM_NODES_DEPENDENCIES']:\n",
        "  !echo -= Install custom nodes dependencies =-\n",
        "  !pip install GitPython\n",
        "  !python custom_nodes/ComfyUI-Manager/cm-cli.py restore-dependencies\n",
        "\n",
        "\n",
        "\n"
      ]
    },
    {
      "cell_type": "markdown",
      "source": [
        "## Log into HuggingFace"
      ],
      "metadata": {
        "id": "GZT1M_FqfAU2"
      }
    },
    {
      "cell_type": "code",
      "execution_count": null,
      "metadata": {
        "id": "4xxarT_KQ3uk"
      },
      "outputs": [],
      "source": [
        "dfrom huggingface_hub import login\n",
        "login(new_session=True)"
      ]
    },
    {
      "cell_type": "markdown",
      "metadata": {
        "id": "XTEA9vRZ1I1j"
      },
      "source": [
        "### Download Resources"
      ]
    },
    {
      "cell_type": "code",
      "execution_count": null,
      "metadata": {
        "id": "G9DXg5MV3ocz"
      },
      "outputs": [],
      "source": [
        "# Download the FLUX model from Hugging Face and save it in the ./models/unet directory\n",
        "# !wget -c \"https://huggingface.co/city96/FLUX.1-dev-gguf/resolve/main/flux1-dev-Q4_K_S.gguf\" -P \"./models/unet\"\n",
        "\n",
        "# Stronger FLUX model\n",
        "# !wget -c \"https://huggingface.co/city96/FLUX.1-dev-gguf/resolve/main/flux1-dev-Q6_K.gguf\" -P \"/content/ComfyUI/models/unet\"\n",
        "\n",
        "!wget -c \"https://huggingface.co/city96/FLUX.1-dev-gguf/resolve/main/flux1-dev-Q8_0.gguf\" -P \"/content/ComfyUI/models/unet\"\n",
        "\n",
        "!wget -c \"https://huggingface.co/city96/FLUX.1-dev-gguf/resolve/main/flux1-dev-F16.gguf\" -P \"./models/unet\"\n",
        "\n",
        "!wget -c \"https://huggingface.co/city96/FLUX.1-dev-gguf/resolve/main/flux1-dev-F16.gguf\" -P \"/content/ComfyUI/custom_nodes/\"\n",
        "\n",
        "# Download the CLIP T5 model from Hugging Face and save it in ./models/clip\n",
        "# !wget -c \"https://huggingface.co/city96/t5-v1_1-xxl-encoder-gguf/resolve/main/t5-v1_1-xxl-encoder-Q4_K_S.gguf\" -P \"./models/clip\"\n",
        "\n",
        "# T5 Encoder for Q6_k GGUF\n",
        "# !wget -c \"https://huggingface.co/city96/t5-v1_1-xxl-encoder-gguf/resolve/main/t5-v1_1-xxl-encoder-Q6_K.gguf\" -P \"/content/ComfyUI/models/clip\"\n",
        "\n",
        "# !wget -c \"https://huggingface.co/comfyanonymous/flux_text_encoders/resolve/main/t5xxl_fp16.safetensors\" -P \"./models/clip\"\n",
        "\n",
        "!wget -c \"https://huggingface.co/city96/t5-v1_1-xxl-encoder-gguf/resolve/main/t5-v1_1-xxl-encoder-f16.gguf\" -P \"/content/ComfyUI/models/clip\"\n",
        "\n",
        "# Download the safetensors file for the CLIP model\n",
        "# !wget -c \"https://huggingface.co/f5aiteam/CLIP/resolve/main/clip_l.safetensors\" -P \"./models/clip\"\n",
        "\n",
        "# Download the Flux Text Encoder\n",
        "!wget -c \"https://huggingface.co/comfyanonymous/flux_text_encoders/resolve/main/clip_l.safetensors\" -P \"/content/ComfyUI/models/clip\"\n",
        "\n",
        "# Download the LARGER t5xxl encoder\n",
        "!wget -c \"https://huggingface.co/comfyanonymous/flux_text_encoders/resolve/main/t5xxl_fp16.safetensors\" -P \"/content/ComfyUI/models/clip\"\n",
        "\n",
        "# Download the SMALLER t5xxl encoder\n",
        "# !wget -c \"https://huggingface.co/comfyanonymous/flux_text_encoders/resolve/main/t5xxl_fp8_e4m3fn.safetensors\" -P \"./models/clip\"\n",
        "\n",
        "# Download the VAE model from Hugging Face and save it in ./models/vae\n",
        "!wget -c \"https://huggingface.co/f5aiteam/VAE/resolve/main/ae.safetensors\" -P \"/content/ComfyUI/models/vae\"\n",
        "\n",
        "!wget -c \"https://huggingface.co/black-forest-labs/FLUX.1-dev/resolve/main/ae.safetensors\" -P \"/content/ComfyUI/models/vae\"\n",
        "\n",
        "# ✅ Optional: Download VAE if needed\n",
        "!wget -c \"https://huggingface.co/stabilityai/sd-vae-ft-mse-original/resolve/main/vae-ft-mse-840000-ema-pruned.safetensors\" -O \"/content/ComfyUI/models/vae/vae-ft-mse-ema-pruned.safetensors\"\n",
        "\n",
        "# Download the LoRa model from Civitai.com Replace `xxxxxxxx` with your actual token\n",
        "!wget -c \"https://civitai.com/api/download/models/1198851?type=Model&format=SafeTensor&token=CIVIT_TOKEN_HERE\" -O \"/content/ComfyUI/models/loras/FluxThouS40k.safetensors\"\n",
        "\n",
        "# 📥 Download a base checkpoint model (e.g., Realistic Vision v5.1)\n",
        "# !wget -c \"https://civitai.com/api/download/models/128713\" -O \"/content/ComfyUI/models/checkpoints/realisticVisionV51_v51VAE.safetensors\"\n",
        "\n",
        "# Download NSFW Lora\n",
        "# !wget -c \"https://civitai.com/api/download/models/1050165?type=Model&format=SafeTensor\" -O \"./models/loras/nsfw.safetensors\"\n",
        "\n",
        "# Download the ControlNet models\n",
        "# If you want to use a specific ControlNet model, remove the hashtag (#) from the corresponding line.\n",
        "# !wget -c \"https://huggingface.co/XLabs-AI/flux-controlnet-depth-v3/resolve/main/flux-depth-controlnet-v3.safetensors\" -P \"./models/controlnet\"\n",
        "# !wget -c \"https://huggingface.co/XLabs-AI/flux-controlnet-collections/resolve/main/flux-canny-controlnet-v3.safetensors\" -P \"./models/controlnet\"\n",
        "# !wget -c \"https://huggingface.co/XLabs-AI/flux-controlnet-collections/resolve/main/flux-hed-controlnet-v3.safetensors\" -P \"./models/controlnet\"\n"
      ]
    },
    {
      "cell_type": "markdown",
      "source": [
        "## Loras and Checkpoint"
      ],
      "metadata": {
        "id": "5ayVT0gCUq1R"
      }
    },
    {
      "cell_type": "code",
      "execution_count": null,
      "metadata": {
        "id": "Ar9EQPoBuSPM"
      },
      "outputs": [],
      "source": [
        "# 📥 Download a base checkpoint model (e.g., Realistic Vision v5.1)\n",
        "# !wget -c \"https://civitai.com/api/download/models/128713\" -O \"/content/ComfyUI/models/checkpoints/realisticVisionV51_v51VAE.safetensors\"\n",
        "\n",
        "# Download NSFW Lora\n",
        "# !wget -c \"https://civitai.com/api/download/models/1050165?type=Model&format=SafeTensor\" -O \"/content/ComfyUI/models/loras/nsfw.safetensors\"\n",
        "\n",
        "!wget -c \"https://huggingface.co/strangerzonehf/Flux-Super-Realism-LoRA/resolve/main/super-realism.safetensors\" -P \"/content/ComfyUI/models/loras\"\n",
        "\n",
        "!wget -c \"https://civitai.com/api/download/models/1920523?type=Model&format=SafeTensor&size=pruned&fp=fp16\" -O \"/content/ComfyUI/models/checkpoints/epicRealismXL_v10.safetensors\"\n",
        "\n",
        "!wget -c \"https://civitai.com/api/download/models/1026423?type=Model&format=SafeTensor\" -P \"/content/ComfyUI/models/loras\"\n",
        "\n",
        "!wget -c \"https://huggingface.co/XLabs-AI/flux-RealismLora/resolve/main/lora.safetensors\" -O \"/content/ComfyUI/models/loras/xlabs_RealismLora.safetensors\"\n",
        "\n",
        "!wget -c \"https://huggingface.co/SG161222/Realistic_Vision_V6.0_B1_noVAE/resolve/main/Realistic_Vision_V6.0_NV_B1.safetensors\" -P \"/content/ComfyUI/models/checkpoints\"\n"
      ]
    },
    {
      "cell_type": "code",
      "execution_count": null,
      "metadata": {
        "id": "6p3m_BWrnBX7"
      },
      "outputs": [],
      "source": [
        "!wget -c \"https://huggingface.co/strangerzonehf/Flux-Super-Realism-LoRA/resolve/main/super-realism.safetensors\" -P \"/content/ComfyUI/models/loras\"\n",
        "\n",
        "!wget -c \"https://civitai.com/api/download/models/1920523?type=Model&format=SafeTensor&size=pruned&fp=fp16\" -O \"/content/ComfyUI/models/checkpoints/epicRealismXL_v10.safetensors\"\n"
      ]
    },
    {
      "cell_type": "markdown",
      "source": [
        "## Clear Unused Memory"
      ],
      "metadata": {
        "id": "X4KyN6nzgG0F"
      }
    },
    {
      "cell_type": "markdown",
      "metadata": {
        "id": "fknei2hd34VM"
      },
      "source": [
        "### Run ComfyUI"
      ]
    },
    {
      "cell_type": "code",
      "source": [
        "import gc\n",
        "import torch\n",
        "\n",
        "# Garbage collect unused memory\n",
        "gc.collect()\n",
        "\n",
        "# Clear GPU cache if using PyTorch (optional, for CUDA)\n",
        "if torch.cuda.is_available():\n",
        "    torch.cuda.empty_cache()\n",
        "    torch.cuda.ipc_collect()\n",
        "\n",
        "print(\"✅ RAM and CUDA cache cleared.\")"
      ],
      "metadata": {
        "id": "QYGDfzaCgJpq"
      },
      "execution_count": null,
      "outputs": []
    },
    {
      "cell_type": "code",
      "execution_count": null,
      "metadata": {
        "id": "3DioeCN34A79"
      },
      "outputs": [],
      "source": [
        "!wget -P ~ https://github.com/cloudflare/cloudflared/releases/latest/download/cloudflared-linux-amd64.deb\n",
        "!dpkg -i ~/cloudflared-linux-amd64.deb\n",
        "\n",
        "import subprocess\n",
        "import threading\n",
        "import time\n",
        "import socket\n",
        "import urllib.request\n",
        "\n",
        "def iframe_thread(port):\n",
        "  while True:\n",
        "      time.sleep(0.5)\n",
        "      sock = socket.socket(socket.AF_INET, socket.SOCK_STREAM)\n",
        "      result = sock.connect_ex(('127.0.0.1', port))\n",
        "      if result == 0:\n",
        "        break\n",
        "      sock.close()\n",
        "  print(\"\\nComfyUI finished loading, trying to launch cloudflared (if it gets stuck here cloudflared is having issues)\\n\")\n",
        "\n",
        "  p = subprocess.Popen([\"cloudflared\", \"tunnel\", \"--url\", \"http://127.0.0.1:{}\".format(port)], stdout=subprocess.PIPE, stderr=subprocess.PIPE)\n",
        "  for line in p.stderr:\n",
        "    l = line.decode()\n",
        "    if \"trycloudflare.com \" in l:\n",
        "      print(\"This is the URL to access ComfyUI:\", l[l.find(\"http\"):], end='')\n",
        "    #print(l, end='')\n",
        "\n",
        "\n",
        "threading.Thread(target=iframe_thread, daemon=True, args=(8188,)).start()\n",
        "\n",
        "!python main.py --dont-print-server"
      ]
    },
    {
      "cell_type": "code",
      "execution_count": null,
      "metadata": {
        "id": "-njETmcjFn55"
      },
      "outputs": [],
      "source": []
    }
  ],
  "metadata": {
    "colab": {
      "machine_shape": "hm",
      "provenance": [],
      "include_colab_link": true
    },
    "kernelspec": {
      "display_name": "Python 3",
      "name": "python3"
    },
    "language_info": {
      "name": "python"
    }
  },
  "nbformat": 4,
  "nbformat_minor": 0
}